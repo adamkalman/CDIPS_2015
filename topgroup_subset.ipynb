{
 "cells": [
  {
   "cell_type": "code",
   "execution_count": 163,
   "metadata": {
    "collapsed": false
   },
   "outputs": [
    {
     "name": "stdout",
     "output_type": "stream",
     "text": [
      "1431      8257\n",
      "193494    6828\n",
      "117528    5085\n",
      "2510      4108\n",
      "154884    3388\n",
      "109       2851\n",
      "8726      2610\n",
      "4603      2133\n",
      "233       2109\n",
      "1009      1905\n",
      "42844     1859\n",
      "17036     1612\n",
      "809       1335\n",
      "102852    1303\n",
      "23323     1287\n",
      "950       1246\n",
      "335       1223\n",
      "233190    1189\n",
      "332       1185\n",
      "11525     1102\n",
      "2108      1101\n",
      "426065    1081\n",
      "2534      1056\n",
      "1843      1016\n",
      "649        985\n",
      "51387      985\n",
      "763        956\n",
      "1261       931\n",
      "2475       927\n",
      "984        924\n",
      "76430      919\n",
      "43748      912\n",
      "147547     912\n",
      "1340       870\n",
      "646363     868\n",
      "8083       857\n",
      "887        735\n",
      "2334       672\n",
      "165        662\n",
      "1728       611\n",
      "5382       603\n",
      "15349      602\n",
      "68         598\n",
      "4527       597\n",
      "25529      596\n",
      "828259     584\n",
      "974071     578\n",
      "364326     562\n",
      "166260     543\n",
      "5577       539\n",
      "dtype: int64\n"
     ]
    }
   ],
   "source": [
    "#!/usr/bin/env python\n",
    "\n",
    "\"\"\"\n",
    "takes all rows for the 50 most-posted-in groups, removes the wierd users, and outputs subset.\n",
    "matches users in this subset to a uniqe id.\n",
    "ONLY ASIGNS ID WHEN LAST LOGIN IS THE SAME\n",
    "Takes the EP_data.csv file.\n",
    "\"\"\"\n",
    "\n",
    "import pandas as pd\n",
    "import numpy as np\n",
    "\n",
    "datafile = pd.read_csv('EP_data.csv')\n",
    "\n",
    "#get a list of the 50 groups with the most posts\n",
    "group_count = pd.Series(datafile[\"gid\"])\n",
    "top50 = group_count.value_counts()[0:50]\n",
    "print (top50)"
   ]
  },
  {
   "cell_type": "code",
   "execution_count": 155,
   "metadata": {
    "collapsed": false
   },
   "outputs": [
    {
     "name": "stdout",
     "output_type": "stream",
     "text": [
      "there are 76397 total posts in the top 50 groups\n"
     ]
    }
   ],
   "source": [
    "sumtop50 = top50.sum()\n",
    "print ('there are %d total posts in the top 50 groups') % sumtop50"
   ]
  },
  {
   "cell_type": "code",
   "execution_count": 157,
   "metadata": {
    "collapsed": false
   },
   "outputs": [],
   "source": [
    "groups = []\n",
    "for index, row in top50.iteritems():\n",
    "    groups.append(index)\n",
    "#print 'The top 50 groups are:',groups"
   ]
  },
  {
   "cell_type": "code",
   "execution_count": 158,
   "metadata": {
    "collapsed": false
   },
   "outputs": [
    {
     "name": "stdout",
     "output_type": "stream",
     "text": [
      "76397 should equal the number of posts calculated above: 76397\n",
      "after removing fake user, the list is this long: 71369\n"
     ]
    }
   ],
   "source": [
    "#make a smaller dataset containing only entries with top group ids\n",
    "subset_dirty = datafile[datafile['gid'].isin(groups)]\n",
    "print len(subset_dirty), 'should equal the number of posts calculated above:', sumtop50\n",
    "#clean subset, removing entries by suspected moderator\n",
    "subset = subset_dirty[subset_dirty['num_entries']!=65535]\n",
    "print 'after removing fake user, the list is this long:',len(subset)"
   ]
  },
  {
   "cell_type": "code",
   "execution_count": 161,
   "metadata": {
    "collapsed": false
   },
   "outputs": [
    {
     "name": "stdout",
     "output_type": "stream",
     "text": [
      "(71369, 16)\n",
      "(972845, 5)\n",
      "(23177, 17)\n"
     ]
    }
   ],
   "source": [
    "#add user id to the subset\n",
    "\n",
    "members = pd.read_csv('members.csv')\n",
    "#print members.columns\n",
    "#print subset.columns\n",
    "\n",
    "IDsubset = pd.merge(subset, members, how='inner', on=['created','birthdate','gender','last_login'])\n",
    "\n",
    "#print IDsubset.head(n = 5)\n",
    "print subset.shape\n",
    "print members.shape\n",
    "print IDsubset.shape"
   ]
  },
  {
   "cell_type": "code",
   "execution_count": 162,
   "metadata": {
    "collapsed": false
   },
   "outputs": [
    {
     "name": "stdout",
     "output_type": "stream",
     "text": [
      "117528    3056\n",
      "154884    1460\n",
      "1431      1105\n",
      "109       1066\n",
      "193494    1047\n",
      "4603      1023\n",
      "233        991\n",
      "2510       933\n",
      "2475       677\n",
      "42844      554\n",
      "335        497\n",
      "984        486\n",
      "8726       409\n",
      "1843       405\n",
      "1009       405\n",
      "332        361\n",
      "809        352\n",
      "17036      340\n",
      "364326     339\n",
      "950        337\n",
      "887        334\n",
      "165        331\n",
      "646363     325\n",
      "2108       324\n",
      "43748      323\n",
      "763        320\n",
      "1340       319\n",
      "102852     316\n",
      "649        311\n",
      "68         311\n",
      "233190     290\n",
      "23323      281\n",
      "828259     279\n",
      "166260     276\n",
      "25529      276\n",
      "2334       267\n",
      "5577       263\n",
      "2534       250\n",
      "76430      235\n",
      "11525      228\n",
      "147547     211\n",
      "5382       200\n",
      "1261       189\n",
      "8083       186\n",
      "974071     178\n",
      "15349      143\n",
      "51387      133\n",
      "1728       128\n",
      "4527       107\n",
      "dtype: int64\n"
     ]
    }
   ],
   "source": [
    "#if we think we need to take more users, as in guessing user id based upon\n",
    "#number of users with same 'created' 'bday' and 'gender' but not the same\n",
    "#'last login', then we should go back and add these\n",
    "#I didn't do it the previous way because it was too slow for my computer.\n",
    "\n",
    "\n",
    "#get a list of the 50 groups with the most posts\n",
    "g_count = pd.Series(IDsubset[\"gid\"])\n",
    "remainders = g_count.value_counts()[0:50]\n",
    "print (remainders)"
   ]
  },
  {
   "cell_type": "code",
   "execution_count": 164,
   "metadata": {
    "collapsed": true
   },
   "outputs": [],
   "source": [
    "IDsubset.to_csv('topgroups_ids.csv')"
   ]
  },
  {
   "cell_type": "code",
   "execution_count": null,
   "metadata": {
    "collapsed": true
   },
   "outputs": [],
   "source": []
  }
 ],
 "metadata": {
  "kernelspec": {
   "display_name": "Python 2",
   "language": "python",
   "name": "python2"
  },
  "language_info": {
   "codemirror_mode": {
    "name": "ipython",
    "version": 2
   },
   "file_extension": ".py",
   "mimetype": "text/x-python",
   "name": "python",
   "nbconvert_exporter": "python",
   "pygments_lexer": "ipython2",
   "version": "2.7.10"
  }
 },
 "nbformat": 4,
 "nbformat_minor": 0
}
