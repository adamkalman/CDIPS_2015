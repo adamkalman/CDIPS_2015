{
 "cells": [
  {
   "cell_type": "code",
   "execution_count": 1,
   "metadata": {
    "collapsed": false
   },
   "outputs": [],
   "source": [
    "from dateutil.parser import parse\n",
    "from datetime import datetime, date\n",
    "\n",
    "    \n",
    "def calculate_age(birthdateStr):\n",
    "    \"\"\" Calculates the age from a string containing the birthdate.\n",
    "    birthdateStr must have the format \"YYYY-MM-DD\" or \"YYYY-MM-DD HH:MM:SS\"\n",
    "    \n",
    "    Error checking:\n",
    "    This code also checks that birthdateStr can be parsed using dateutil's parse.\n",
    "    If birthdateStr is not a true string and can't be parsed (parse gives an AttributeError), \n",
    "    this code catches that error, prints an error message, and returns a 0.  \n",
    "    It doesn't catch other types of errors.\n",
    "    \"\"\"\n",
    "    \n",
    "    # Some of the birthdates from EP_data.csv couldn't be parsed\n",
    "    # This try, except catches those birthdates to prevent the program\n",
    "    # from crashing.  \n",
    "    try:\n",
    "        # parse takes a date in the format \"YYYY-MM-DD\" or \"YYYY-MM-DD HH:MM:SS\"\n",
    "        # and parses it into a Python datetime object, which is very useful for\n",
    "        # working with dates\n",
    "        birthdate = parse(birthdateStr).date()\n",
    "    except AttributeError:\n",
    "        print \"Could not parse birthdateStr \", birthdateStr\n",
    "        return 0\n",
    "    today = date.today()\n",
    "    hasBirthdayNotPassed = ((today.month, today.day) < (birthdate.month, birthdate.day))\n",
    "    # Use fact that FALSE converts to 0 and TRUE converts to 1 to subtract 1 if birthday\n",
    "    # has NOT passed.\n",
    "    return today.year - birthdate.year - int(hasBirthdayNotPassed)\n"
   ]
  },
  {
   "cell_type": "code",
   "execution_count": 3,
   "metadata": {
    "collapsed": true
   },
   "outputs": [],
   "source": [
    "import numpy as np\n",
    "import matplotlib.pyplot as plt\n",
    "\n",
    "def drawHistogram(dataArray):\n",
    "    \"\"\"\n",
    "        This function takes in a numpy array and draws the histogram for that array.\n",
    "        It prints out the total number of data points to check that histogram has binned\n",
    "        every possible data point.\n",
    "        \n",
    "        To use in iPython Notebook, make sure the following line is included, so matplotlib\n",
    "        plots inside the notebook:\n",
    "        \n",
    "        %matplotlib inline\n",
    "        \n",
    "    \"\"\"\n",
    "    hist, bins = np.histogram(dataArray)\n",
    "    print \"Total number of data points = \", sum(hist)\n",
    "    width = 0.7 * (bins[1] - bins[0])\n",
    "    center = (bins[:-1] + bins[1:]) / 2\n",
    "    plt.bar(center, hist, align='center', width=width)\n",
    "    plt.show()"
   ]
  },
  {
   "cell_type": "code",
   "execution_count": 3,
   "metadata": {
    "collapsed": false
   },
   "outputs": [
    {
     "name": "stdout",
     "output_type": "stream",
     "text": [
      "birthdate for row  0  is  1997-03-31\n",
      "age for row  0  is  18\n",
      "birthdate for row  20000  is  1947-12-31\n",
      "age for row  20000  is  67\n",
      "birthdate for row  40000  is  1991-08-31\n",
      "age for row  40000  is  23\n",
      "Could not parse birthdateStr  nan\n",
      "birthdate for row  60000  is  1989-03-09\n",
      "age for row  60000  is  26\n",
      "birthdate for row  80000  is  1989-03-09\n",
      "age for row  80000  is  26\n",
      "Could not parse birthdateStr  nan\n",
      "birthdate for row  100000  is  1997-09-30\n",
      "age for row  100000  is  17\n",
      "birthdate for row  120000  is  1995-10-31\n",
      "age for row  120000  is  19\n",
      "birthdate for row  140000  is  1970-10-31\n",
      "age for row  140000  is  44\n",
      "birthdate for row  160000  is  1963-01-31\n",
      "age for row  160000  is  52\n",
      "birthdate for row  180000  is  1999-10-31\n",
      "age for row  180000  is  15\n",
      "birthdate for row  200000  is  1989-03-09\n",
      "age for row  200000  is  26\n",
      "birthdate for row  220000  is  1934-01-31\n",
      "age for row  220000  is  81\n",
      "birthdate for row  240000  is  1999-10-31\n",
      "age for row  240000  is  15\n",
      "birthdate for row  260000  is  1999-04-30\n",
      "age for row  260000  is  16\n",
      "birthdate for row  280000  is  1996-01-31\n",
      "age for row  280000  is  19\n",
      "birthdate for row  300000  is  1986-02-28\n",
      "age for row  300000  is  29\n",
      "birthdate for row  320000  is  1963-02-28\n",
      "age for row  320000  is  52\n",
      "birthdate for row  340000  is  1989-03-09\n",
      "age for row  340000  is  26\n",
      "birthdate for row  360000  is  1981-05-31\n",
      "age for row  360000  is  34\n",
      "birthdate for row  380000  is  1971-01-31\n",
      "age for row  380000  is  44\n",
      "birthdate for row  400000  is  1995-11-30\n",
      "age for row  400000  is  19\n",
      "birthdate for row  420000  is  1992-11-30\n",
      "age for row  420000  is  22\n",
      "birthdate for row  440000  is  1996-06-30\n",
      "age for row  440000  is  19\n",
      "birthdate for row  460000  is  1946-08-31\n",
      "age for row  460000  is  68\n",
      "birthdate for row  480000  is  1996-06-30\n",
      "age for row  480000  is  19\n",
      "birthdate for row  500000  is  1963-03-31\n",
      "age for row  500000  is  52\n",
      "birthdate for row  520000  is  1993-11-30\n",
      "age for row  520000  is  21\n",
      "Number of missing values is  0\n",
      "Total number of data points =  533291\n"
     ]
    },
    {
     "data": {
      "image/png": "[encoded data removed]",
      "text/plain": [
       "<matplotlib.figure.Figure at 0x1075bd750>"
      ]
     },
     "metadata": {},
     "output_type": "display_data"
    }
   ],
   "source": [
    "if __name__ == \"__main__\":\n",
    "    \n",
    "    # keep track of the number of missing values, i.e. empty birthdate strings\n",
    "    nMissing = 0\n",
    "\n",
    "    # Some users have put in a false birthdate, so we have to filter out\n",
    "    # the \"legitimate\" ages.\n",
    "    # The minimum age for using ExperienceProject is 13, so it is legitAgeMin\n",
    "    # The maximum age is more arbitrary.  100 seems reasonable.\n",
    "    legitAgeMin = 13 \n",
    "    legitAgeMax = 100\n",
    "\n",
    "    # contains all data, including missing or corrupt values (which are assigned an age of 0)\n",
    "    # and ages outside the range [legitAgeMin, legitAgeMax].\n",
    "    allAgeList = [] \n",
    "    \n",
    "    # only contains ages within [legitAgeMin, legitAgeMax]\n",
    "    legitAgeList = [] \n",
    "\n",
    "    # CHANGE THIS TO YOUR LOCATION OF THE DATA FILE\n",
    "    dataFilePath = \"/Users/dharshid/CDIPS_Project/data/EP_data.csv\"\n",
    "    import pandas as pd\n",
    "    EPData = pd.read_csv(\"../EP_data.csv\")\n",
    "    \n",
    "    for irow in range(0,EPData.shape[0]):\n",
    "        if EPData.loc[irow,'birthdate']==\"\":\n",
    "            age = 0\n",
    "            nMissing += 1\n",
    "            allAgeList.append(age)\n",
    "        else:\n",
    "            age = calculate_age(EPData.loc[irow,'birthdate'])\n",
    "            if age > legitAgeMax or age < legitAgeMin:\n",
    "                allAgeList.append(age)\n",
    "            else:\n",
    "                allAgeList.append(age)\n",
    "                legitAgeList.append(age)\n",
    "\n",
    "        # print info every several iterations to make sure code is running\n",
    "        if irow % 20000 == 0:\n",
    "            print \"birthdate for row \", irow, \" is \", EPData.loc[irow,'birthdate']\n",
    "            print \"age for row \", irow, \" is \", age\n",
    "\n",
    "    print \"Number of missing values is \", nMissing\n",
    "\n",
    "    # Need this line or matplotlib won't plot within iPython Notebook\n",
    "    %matplotlib inline\n",
    "    drawHistogram(np.array(legitAgeList))"
   ]
  },
  {
   "cell_type": "code",
   "execution_count": 4,
   "metadata": {
    "collapsed": false
   },
   "outputs": [],
   "source": [
    "EPData['age'] = allAgeList"
   ]
  },
  {
   "cell_type": "code",
   "execution_count": 5,
   "metadata": {
    "collapsed": false
   },
   "outputs": [],
   "source": [
    "import pandas as pd\n",
    "EPData.to_csv(\"EP_with_age.csv\")"
   ]
  },
  {
   "cell_type": "code",
   "execution_count": 7,
   "metadata": {
    "collapsed": false
   },
   "outputs": [],
   "source": [
    "#import statsmodels.api as sm\n",
    "from statsmodels.formula.api import ols\n",
    "import matplotlib.pyplot as plt\n",
    "%matplotlib inline"
   ]
  },
  {
   "cell_type": "code",
   "execution_count": 22,
   "metadata": {
    "collapsed": true
   },
   "outputs": [],
   "source": [
    "fans_lm=ols('num_fans ~ C(gender)', data=EPData).fit()"
   ]
  },
  {
   "cell_type": "code",
   "execution_count": 62,
   "metadata": {
    "collapsed": true
   },
   "outputs": [],
   "source": [
    "#EPData = pd.read_csv(\"EP_with_age.csv\")\n",
    "Data = EPData.loc[EPData['age']<80,]\n",
    "age = np.array(Data['age'])\n",
    "support = []\n",
    "bin_seq = range(1,20)# a bin size sequence for trial"
   ]
  },
  {
   "cell_type": "code",
   "execution_count": 11,
   "metadata": {
    "collapsed": false
   },
   "outputs": [
    {
     "data": {
      "text/plain": [
       "'num_friends~ C(age_group)'"
      ]
     },
     "execution_count": 11,
     "metadata": {},
     "output_type": "execute_result"
    }
   ],
   "source": [
    "var_target = 'num_friends'\n",
    "formula = var_target + '~ C(age_group)'\n",
    "formula"
   ]
  },
  {
   "cell_type": "code",
   "execution_count": 68,
   "metadata": {
    "collapsed": false
   },
   "outputs": [
    {
     "data": {
      "text/plain": [
       "[14909.007075958387,\n",
       " 14400.272721655858,\n",
       " 15036.825425781948,\n",
       " 15584.908346173899,\n",
       " 12366.27761819789,\n",
       " 15290.198266692791,\n",
       " 7533.6827769680003,\n",
       " 8834.1299729283437,\n",
       " 10380.778819582474,\n",
       " 11581.048023959243,\n",
       " 12134.145711523337,\n",
       " 13881.476133321024,\n",
       " 16923.089024848174,\n",
       " 3176.2613284045583,\n",
       " 2804.2258803878831,\n",
       " 2471.3218742525305,\n",
       " 2663.6431091815257,\n",
       " 2410.5830677124145,\n",
       " 2255.4456936217321]"
      ]
     },
     "execution_count": 68,
     "metadata": {},
     "output_type": "execute_result"
    }
   ],
   "source": [
    "support"
   ]
  },
  {
   "cell_type": "code",
   "execution_count": 67,
   "metadata": {
    "collapsed": false,
    "scrolled": true
   },
   "outputs": [
    {
     "name": "stdout",
     "output_type": "stream",
     "text": [
      "bin 1\n",
      "bin 2\n",
      "bin 3\n",
      "bin 4\n",
      "bin 5\n",
      "bin 6\n",
      "bin 7\n",
      "bin 8\n",
      "bin 9\n",
      "bin 10\n",
      "bin 11\n",
      "bin 12\n",
      "bin 13\n",
      "bin 14\n",
      "bin 15\n",
      "bin 16\n",
      "bin 17\n",
      "bin 18\n",
      "bin 19\n"
     ]
    },
    {
     "name": "stderr",
     "output_type": "stream",
     "text": [
      "/Users/Jade/anaconda/envs/python2/lib/python2.7/site-packages/IPython/kernel/__main__.py:5: SettingWithCopyWarning: \n",
      "A value is trying to be set on a copy of a slice from a DataFrame.\n",
      "Try using .loc[row_indexer,col_indexer] = value instead\n",
      "\n",
      "See the the caveats in the documentation: http://pandas.pydata.org/pandas-docs/stable/indexing.html#indexing-view-versus-copy\n"
     ]
    }
   ],
   "source": [
    "for bin in bin_seq:\n",
    "    age_group = (age-13)/bin  ##if bin is 5, age groups will be 13 - 17, 18 -22, 23-27,...; \n",
    "    #if bin is 10, age groups will be 13 - 22, 23- 32, 33 - 42,...\n",
    "    #print age_group\n",
    "    Data['age_group'] = age_group\n",
    "    fans_lm=ols('num_fans ~ C(age_group)', data=Data).fit()\n",
    "    support.append(fans_lm.fvalue)\n",
    "    print \"bin\", bin"
   ]
  },
  {
   "cell_type": "code",
   "execution_count": 74,
   "metadata": {
    "collapsed": false
   },
   "outputs": [
    {
     "data": {
      "image/png": "[encoded data removed]",
      "text/plain": [
       "<matplotlib.figure.Figure at 0x1073a0cd0>"
      ]
     },
     "metadata": {},
     "output_type": "display_data"
    },
    {
     "ename": "TypeError",
     "evalue": "__init__() got an unexpected keyword argument 'bin_size'",
     "output_type": "error",
     "traceback": [
      "\u001b[0;31m---------------------------------------------------------------------------\u001b[0m",
      "\u001b[0;31mTypeError\u001b[0m                                 Traceback (most recent call last)",
      "\u001b[0;32m<ipython-input-74-2a18dddbfd45>\u001b[0m in \u001b[0;36m<module>\u001b[0;34m()\u001b[0m\n\u001b[1;32m      1\u001b[0m \u001b[0mplt\u001b[0m\u001b[0;34m.\u001b[0m\u001b[0mplot\u001b[0m\u001b[0;34m(\u001b[0m\u001b[0mbin_seq\u001b[0m\u001b[0;34m,\u001b[0m\u001b[0msupport\u001b[0m\u001b[0;34m)\u001b[0m\u001b[0;34m\u001b[0m\u001b[0m\n\u001b[1;32m      2\u001b[0m \u001b[0mplt\u001b[0m\u001b[0;34m.\u001b[0m\u001b[0mshow\u001b[0m\u001b[0;34m(\u001b[0m\u001b[0;34m)\u001b[0m\u001b[0;34m\u001b[0m\u001b[0m\n\u001b[0;32m----> 3\u001b[0;31m \u001b[0mpd\u001b[0m\u001b[0;34m.\u001b[0m\u001b[0mDataFrame\u001b[0m\u001b[0;34m(\u001b[0m\u001b[0mbin_size\u001b[0m\u001b[0;34m=\u001b[0m\u001b[0mbin_seq\u001b[0m\u001b[0;34m,\u001b[0m\u001b[0mF\u001b[0m\u001b[0;34m=\u001b[0m\u001b[0msupport\u001b[0m\u001b[0;34m)\u001b[0m\u001b[0;34m\u001b[0m\u001b[0m\n\u001b[0m",
      "\u001b[0;31mTypeError\u001b[0m: __init__() got an unexpected keyword argument 'bin_size'"
     ]
    }
   ],
   "source": [
    "plt.plot(bin_seq,support)\n",
    "plt.show()\n",
    "pd.DataFrame(bin_size=bin_seq,F=support)"
   ]
  },
  {
   "cell_type": "code",
   "execution_count": null,
   "metadata": {
    "collapsed": true
   },
   "outputs": [],
   "source": [
    "EP_small = EP.loc[EP['num_friends']>1000,]\n",
    "pd.DataFrame.boxplot(EP_small,'num_fans','gender')"
   ]
  },
  {
   "cell_type": "code",
   "execution_count": 19,
   "metadata": {
    "collapsed": false
   },
   "outputs": [
    {
     "ename": "TypeError",
     "evalue": "'numpy.ndarray' object is not callable",
     "output_type": "error",
     "traceback": [
      "\u001b[0;31m---------------------------------------------------------------------------\u001b[0m",
      "\u001b[0;31mTypeError\u001b[0m                                 Traceback (most recent call last)",
      "\u001b[0;32m<ipython-input-19-00db7d5db761>\u001b[0m in \u001b[0;36m<module>\u001b[0;34m()\u001b[0m\n\u001b[1;32m      1\u001b[0m \u001b[0mx\u001b[0m\u001b[0;34m=\u001b[0m\u001b[0mrange\u001b[0m\u001b[0;34m(\u001b[0m\u001b[0;36m1\u001b[0m\u001b[0;34m,\u001b[0m\u001b[0;36m10\u001b[0m\u001b[0;34m,\u001b[0m\u001b[0;36m2\u001b[0m\u001b[0;34m)\u001b[0m\u001b[0;34m\u001b[0m\u001b[0m\n\u001b[1;32m      2\u001b[0m \u001b[0my\u001b[0m \u001b[0;34m=\u001b[0m \u001b[0;34m[\u001b[0m\u001b[0;36m2\u001b[0m\u001b[0;34m,\u001b[0m\u001b[0;36m1\u001b[0m\u001b[0;34m,\u001b[0m\u001b[0;36m5\u001b[0m\u001b[0;34m,\u001b[0m\u001b[0;36m3\u001b[0m\u001b[0;34m,\u001b[0m\u001b[0;36m4\u001b[0m\u001b[0;34m]\u001b[0m\u001b[0;34m\u001b[0m\u001b[0m\n\u001b[0;32m----> 3\u001b[0;31m \u001b[0msorted\u001b[0m\u001b[0;34m(\u001b[0m\u001b[0my\u001b[0m\u001b[0;34m,\u001b[0m\u001b[0mkey\u001b[0m\u001b[0;34m=\u001b[0m\u001b[0mnp\u001b[0m\u001b[0;34m.\u001b[0m\u001b[0marray\u001b[0m\u001b[0;34m(\u001b[0m\u001b[0mx\u001b[0m\u001b[0;34m)\u001b[0m\u001b[0;34m)\u001b[0m\u001b[0;34m\u001b[0m\u001b[0m\n\u001b[0m",
      "\u001b[0;31mTypeError\u001b[0m: 'numpy.ndarray' object is not callable"
     ]
    }
   ],
   "source": [
    "x=range(1,10,2)\n",
    "y = [2,1,5,3,4]\n",
    "sorted(y,key=np.array(x))"
   ]
  },
  {
   "cell_type": "code",
   "execution_count": 16,
   "metadata": {
    "collapsed": false
   },
   "outputs": [
    {
     "data": {
      "text/plain": [
       "list"
      ]
     },
     "execution_count": 16,
     "metadata": {},
     "output_type": "execute_result"
    }
   ],
   "source": [
    "type(x)"
   ]
  },
  {
   "cell_type": "code",
   "execution_count": 17,
   "metadata": {
    "collapsed": false
   },
   "outputs": [
    {
     "name": "stdout",
     "output_type": "stream",
     "text": [
      "Help on built-in function sorted in module __builtin__:\n",
      "\n",
      "sorted(...)\n",
      "    sorted(iterable, cmp=None, key=None, reverse=False) --> new sorted list\n",
      "\n"
     ]
    }
   ],
   "source": [
    "help(sorted)"
   ]
  },
  {
   "cell_type": "code",
   "execution_count": 30,
   "metadata": {
    "collapsed": false
   },
   "outputs": [],
   "source": [
    "data=EPData.loc[np.array(allAgeList)<80,]\n",
    "Data = EPData.loc[EPData['age']<80,]"
   ]
  },
  {
   "cell_type": "code",
   "execution_count": 25,
   "metadata": {
    "collapsed": false
   },
   "outputs": [
    {
     "data": {
      "text/plain": [
       "534305"
      ]
     },
     "execution_count": 25,
     "metadata": {},
     "output_type": "execute_result"
    }
   ],
   "source": [
    "len(allAgeList)"
   ]
  },
  {
   "cell_type": "code",
   "execution_count": 26,
   "metadata": {
    "collapsed": false
   },
   "outputs": [
    {
     "data": {
      "text/plain": [
       "(534305, 17)"
      ]
     },
     "execution_count": 26,
     "metadata": {},
     "output_type": "execute_result"
    }
   ],
   "source": [
    "EPData.shape"
   ]
  },
  {
   "cell_type": "code",
   "execution_count": 28,
   "metadata": {
    "collapsed": false
   },
   "outputs": [
    {
     "data": {
      "text/plain": [
       "pandas.core.series.Series"
      ]
     },
     "execution_count": 28,
     "metadata": {},
     "output_type": "execute_result"
    }
   ],
   "source": [
    "type(EPData['age'])"
   ]
  },
  {
   "cell_type": "code",
   "execution_count": 29,
   "metadata": {
    "collapsed": false
   },
   "outputs": [
    {
     "data": {
      "text/plain": [
       "list"
      ]
     },
     "execution_count": 29,
     "metadata": {},
     "output_type": "execute_result"
    }
   ],
   "source": [
    "type(allAgeList)"
   ]
  },
  {
   "cell_type": "code",
   "execution_count": 1,
   "metadata": {
    "collapsed": false
   },
   "outputs": [],
   "source": [
    "import age_grouping as ag\n",
    "import pandas as pd\n",
    "import numpy as np\n",
    "EPData = pd.read_csv(\"../EP_with_age.csv\")"
   ]
  },
  {
   "cell_type": "code",
   "execution_count": 2,
   "metadata": {
    "collapsed": false
   },
   "outputs": [
    {
     "name": "stdout",
     "output_type": "stream",
     "text": [
      "set([1, 2, 3, 4, 5, 6, 7, 8, 9, 10, 11, 12, 13, 14, 15, 16, 17, 18, 19, 20, 21, 22, 23, 24, 25, 26, 27, 28, 29, 30, 31, 32, 33, 34, 35, 36, 37, 38, 39, 40, 41, 42, 43, 44, 45, 46, 47, 48, 49, 50, 51, 52, 53, 54, 55, 56, 57, 58, 59, 60, 61, 62, 63, 64, 65, 66])\n",
      "bin size =  1 F =  1471.43327813\n",
      "set([0, 1, 2, 3, 4, 5, 6, 7, 8, 9, 10, 11, 12, 13, 14, 15, 16, 17, 18, 19, 20, 21, 22, 23, 24, 25, 26, 27, 28, 29, 30, 31, 32, 33])\n",
      "bin size =  2 F =  2036.29036542\n",
      "set([0, 1, 2, 3, 4, 5, 6, 7, 8, 9, 10, 11, 12, 13, 14, 15, 16, 17, 18, 19, 20, 21, 22])\n",
      "bin size =  3 F =  2226.01691606\n",
      "set([0, 1, 2, 3, 4, 5, 6, 7, 8, 9, 10, 11, 12, 13, 14, 15, 16])\n",
      "bin size =  4 F =  2799.56695269\n",
      "set([0, 1, 2, 3, 4, 5, 6, 7, 8, 9, 10, 11, 12, 13])\n",
      "bin size =  5 F =  3038.63899769\n",
      "set([0, 1, 2, 3, 4, 5, 6, 7, 8, 9, 10, 11])\n",
      "bin size =  6 F =  2661.84958627\n",
      "set([0, 1, 2, 3, 4, 5, 6, 7, 8, 9])\n",
      "bin size =  7 F =  3091.58525411\n",
      "set([0, 1, 2, 3, 4, 5, 6, 7, 8])\n",
      "bin size =  8 F =  2927.12129187\n",
      "set([0, 1, 2, 3, 4, 5, 6, 7])\n",
      "bin size =  9 F =  4838.40629907\n",
      "set([0, 1, 2, 3, 4, 5, 6])\n",
      "bin size =  10 F =  3665.14542778\n",
      "set([0, 1, 2, 3, 4, 5, 6])\n",
      "bin size =  11 F =  5505.45181858\n",
      "set([0, 1, 2, 3, 4, 5])\n",
      "bin size =  12 F =  2662.62609657\n",
      "set([0, 1, 2, 3, 4, 5])\n",
      "bin size =  13 F =  3931.91502382\n",
      "set([0, 1, 2, 3, 4])\n",
      "bin size =  14 F =  6302.88400627\n",
      "set([0, 1, 2, 3, 4])\n",
      "bin size =  15 F =  6331.59208352\n",
      "set([0, 1, 2, 3, 4])\n",
      "bin size =  16 F =  2885.62235148\n",
      "set([0, 1, 2, 3])\n",
      "bin size =  17 F =  4008.48361687\n",
      "set([0, 1, 2, 3])\n",
      "bin size =  18 F =  4593.76631224\n",
      "set([0, 1, 2, 3])\n",
      "bin size =  19 F =  5201.19753372\n"
     ]
    }
   ],
   "source": [
    "age = EPData['age']\n",
    "var_target = 'num_friends'\n",
    "bin_max = 20\n",
    "age_range = [13,80]\n",
    "group_support = ag.age_grouping(age,EPData,var_target,bin_max,age_range)"
   ]
  },
  {
   "cell_type": "code",
   "execution_count": 5,
   "metadata": {
    "collapsed": false
   },
   "outputs": [
    {
     "ename": "IndexError",
     "evalue": "string index out of range",
     "output_type": "error",
     "traceback": [
      "\u001b[0;31m---------------------------------------------------------------------------\u001b[0m",
      "\u001b[0;31mIndexError\u001b[0m                                Traceback (most recent call last)",
      "\u001b[0;32m<ipython-input-5-2b3cc4b76365>\u001b[0m in \u001b[0;36m<module>\u001b[0;34m()\u001b[0m\n\u001b[0;32m----> 1\u001b[0;31m \u001b[0;32mfor\u001b[0m \u001b[0mbin\u001b[0m\u001b[0;34m,\u001b[0m \u001b[0mF\u001b[0m \u001b[0;32min\u001b[0m \u001b[0msorted\u001b[0m\u001b[0;34m(\u001b[0m\u001b[0mgroup_support\u001b[0m\u001b[0;34m,\u001b[0m \u001b[0mkey\u001b[0m\u001b[0;34m=\u001b[0m\u001b[0;32mlambda\u001b[0m \u001b[0mgroup_support\u001b[0m\u001b[0;34m:\u001b[0m\u001b[0mgroup_support\u001b[0m\u001b[0;34m[\u001b[0m\u001b[0;36m1\u001b[0m\u001b[0;34m]\u001b[0m\u001b[0;34m,\u001b[0m\u001b[0mreverse\u001b[0m\u001b[0;34m=\u001b[0m\u001b[0mTrue\u001b[0m\u001b[0;34m)\u001b[0m\u001b[0;34m:\u001b[0m\u001b[0;34m\u001b[0m\u001b[0m\n\u001b[0m\u001b[1;32m      2\u001b[0m     \u001b[0;32mprint\u001b[0m \u001b[0mbin\u001b[0m\u001b[0;34m,\u001b[0m \u001b[0mF\u001b[0m\u001b[0;34m\u001b[0m\u001b[0m\n\u001b[1;32m      3\u001b[0m \u001b[0mplt\u001b[0m\u001b[0;34m.\u001b[0m\u001b[0mplot\u001b[0m\u001b[0;34m(\u001b[0m\u001b[0mgrouping_support\u001b[0m\u001b[0;34m[\u001b[0m\u001b[0;34m'bin'\u001b[0m\u001b[0;34m]\u001b[0m\u001b[0;34m,\u001b[0m\u001b[0mgrouping_support\u001b[0m\u001b[0;34m[\u001b[0m\u001b[0;34m'F'\u001b[0m\u001b[0;34m]\u001b[0m\u001b[0;34m)\u001b[0m\u001b[0;34m\u001b[0m\u001b[0m\n\u001b[1;32m      4\u001b[0m \u001b[0mplt\u001b[0m\u001b[0;34m.\u001b[0m\u001b[0mshow\u001b[0m\u001b[0;34m(\u001b[0m\u001b[0;34m)\u001b[0m\u001b[0;34m\u001b[0m\u001b[0m\n",
      "\u001b[0;32m<ipython-input-5-2b3cc4b76365>\u001b[0m in \u001b[0;36m<lambda>\u001b[0;34m(group_support)\u001b[0m\n\u001b[0;32m----> 1\u001b[0;31m \u001b[0;32mfor\u001b[0m \u001b[0mbin\u001b[0m\u001b[0;34m,\u001b[0m \u001b[0mF\u001b[0m \u001b[0;32min\u001b[0m \u001b[0msorted\u001b[0m\u001b[0;34m(\u001b[0m\u001b[0mgroup_support\u001b[0m\u001b[0;34m,\u001b[0m \u001b[0mkey\u001b[0m\u001b[0;34m=\u001b[0m\u001b[0;32mlambda\u001b[0m \u001b[0mgroup_support\u001b[0m\u001b[0;34m:\u001b[0m\u001b[0mgroup_support\u001b[0m\u001b[0;34m[\u001b[0m\u001b[0;36m1\u001b[0m\u001b[0;34m]\u001b[0m\u001b[0;34m,\u001b[0m\u001b[0mreverse\u001b[0m\u001b[0;34m=\u001b[0m\u001b[0mTrue\u001b[0m\u001b[0;34m)\u001b[0m\u001b[0;34m:\u001b[0m\u001b[0;34m\u001b[0m\u001b[0m\n\u001b[0m\u001b[1;32m      2\u001b[0m     \u001b[0;32mprint\u001b[0m \u001b[0mbin\u001b[0m\u001b[0;34m,\u001b[0m \u001b[0mF\u001b[0m\u001b[0;34m\u001b[0m\u001b[0m\n\u001b[1;32m      3\u001b[0m \u001b[0mplt\u001b[0m\u001b[0;34m.\u001b[0m\u001b[0mplot\u001b[0m\u001b[0;34m(\u001b[0m\u001b[0mgrouping_support\u001b[0m\u001b[0;34m[\u001b[0m\u001b[0;34m'bin'\u001b[0m\u001b[0;34m]\u001b[0m\u001b[0;34m,\u001b[0m\u001b[0mgrouping_support\u001b[0m\u001b[0;34m[\u001b[0m\u001b[0;34m'F'\u001b[0m\u001b[0;34m]\u001b[0m\u001b[0;34m)\u001b[0m\u001b[0;34m\u001b[0m\u001b[0m\n\u001b[1;32m      4\u001b[0m \u001b[0mplt\u001b[0m\u001b[0;34m.\u001b[0m\u001b[0mshow\u001b[0m\u001b[0;34m(\u001b[0m\u001b[0;34m)\u001b[0m\u001b[0;34m\u001b[0m\u001b[0m\n",
      "\u001b[0;31mIndexError\u001b[0m: string index out of range"
     ]
    }
   ],
   "source": [
    "for bin, F in sorted(group_support, key=lambda group_support:group_support[1],reverse=True):\n",
    "    print bin, F\n",
    "plt.plot(grouping_support['bin'],grouping_support['F'])\n",
    "plt.show()"
   ]
  },
  {
   "cell_type": "code",
   "execution_count": 3,
   "metadata": {
    "collapsed": false
   },
   "outputs": [
    {
     "data": {
      "text/plain": [
       "{'F': [1471.4332781339256,\n",
       "  2036.2903654196152,\n",
       "  2226.016916060782,\n",
       "  2799.566952693765,\n",
       "  3038.6389976880287,\n",
       "  2661.849586267193,\n",
       "  3091.5852541095192,\n",
       "  2927.1212918735132,\n",
       "  4838.4062990745142,\n",
       "  3665.1454277828771,\n",
       "  5505.4518185793286,\n",
       "  2662.6260965741649,\n",
       "  3931.9150238192765,\n",
       "  6302.8840062657664,\n",
       "  6331.5920835180877,\n",
       "  2885.6223514770491,\n",
       "  4008.4836168721372,\n",
       "  4593.7663122384938,\n",
       "  5201.197533722182],\n",
       " 'bin': [1, 2, 3, 4, 5, 6, 7, 8, 9, 10, 11, 12, 13, 14, 15, 16, 17, 18, 19]}"
      ]
     },
     "execution_count": 3,
     "metadata": {},
     "output_type": "execute_result"
    }
   ],
   "source": [
    "group_support"
   ]
  },
  {
   "cell_type": "code",
   "execution_count": null,
   "metadata": {
    "collapsed": true
   },
   "outputs": [],
   "source": []
  }
 ],
 "metadata": {
  "kernelspec": {
   "display_name": "Python 2",
   "language": "python",
   "name": "python2"
  },
  "language_info": {
   "codemirror_mode": {
    "name": "ipython",
    "version": 2
   },
   "file_extension": ".py",
   "mimetype": "text/x-python",
   "name": "python",
   "nbconvert_exporter": "python",
   "pygments_lexer": "ipython2",
   "version": "2.7.10"
  }
 },
 "nbformat": 4,
 "nbformat_minor": 0
}
