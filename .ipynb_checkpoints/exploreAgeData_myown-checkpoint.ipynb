{
 "cells": [
  {
   "cell_type": "code",
   "execution_count": 1,
   "metadata": {
    "collapsed": false
   },
   "outputs": [],
   "source": [
    "from dateutil.parser import parse\n",
    "from datetime import datetime, date\n",
    "\n",
    "    \n",
    "def calculate_age(birthdateStr):\n",
    "    \"\"\" Calculates the age from a string containing the birthdate.\n",
    "    birthdateStr must have the format \"YYYY-MM-DD\" or \"YYYY-MM-DD HH:MM:SS\"\n",
    "    \n",
    "    Error checking:\n",
    "    This code also checks that birthdateStr can be parsed using dateutil's parse.\n",
    "    If birthdateStr is not a true string and can't be parsed (parse gives an AttributeError), \n",
    "    this code catches that error, prints an error message, and returns a 0.  \n",
    "    It doesn't catch other types of errors.\n",
    "    \"\"\"\n",
    "    \n",
    "    # Some of the birthdates from EP_data.csv couldn't be parsed\n",
    "    # This try, except catches those birthdates to prevent the program\n",
    "    # from crashing.  \n",
    "    try:\n",
    "        # parse takes a date in the format \"YYYY-MM-DD\" or \"YYYY-MM-DD HH:MM:SS\"\n",
    "        # and parses it into a Python datetime object, which is very useful for\n",
    "        # working with dates\n",
    "        birthdate = parse(birthdateStr).date()\n",
    "    except AttributeError:\n",
    "        print \"Could not parse birthdateStr \", birthdateStr\n",
    "        return 0\n",
    "    today = date.today()\n",
    "    hasBirthdayNotPassed = ((today.month, today.day) < (birthdate.month, birthdate.day))\n",
    "    # Use fact that FALSE converts to 0 and TRUE converts to 1 to subtract 1 if birthday\n",
    "    # has NOT passed.\n",
    "    return today.year - birthdate.year - int(hasBirthdayNotPassed)\n"
   ]
  },
  {
   "cell_type": "code",
   "execution_count": 2,
   "metadata": {
    "collapsed": true
   },
   "outputs": [],
   "source": [
    "import numpy as np\n",
    "import matplotlib.pyplot as plt\n",
    "\n",
    "def drawHistogram(dataArray):\n",
    "    \"\"\"\n",
    "        This function takes in a numpy array and draws the histogram for that array.\n",
    "        It prints out the total number of data points to check that histogram has binned\n",
    "        every possible data point.\n",
    "        \n",
    "        To use in iPython Notebook, make sure the following line is included, so matplotlib\n",
    "        plots inside the notebook:\n",
    "        \n",
    "        %matplotlib inline\n",
    "        \n",
    "    \"\"\"\n",
    "    hist, bins = np.histogram(dataArray)\n",
    "    print \"Total number of data points = \", sum(hist)\n",
    "    width = 0.7 * (bins[1] - bins[0])\n",
    "    center = (bins[:-1] + bins[1:]) / 2\n",
    "    plt.bar(center, hist, align='center', width=width)\n",
    "    plt.show()"
   ]
  },
  {
   "cell_type": "code",
   "execution_count": 3,
   "metadata": {
    "collapsed": false
   },
   "outputs": [
    {
     "name": "stdout",
     "output_type": "stream",
     "text": [
      "birthdate for row  0  is  1997-03-31\n",
      "age for row  0  is  18\n",
      "birthdate for row  20000  is  1947-12-31\n",
      "age for row  20000  is  67\n",
      "birthdate for row  40000  is  1991-08-31\n",
      "age for row  40000  is  23\n",
      "Could not parse birthdateStr  nan\n",
      "birthdate for row  60000  is  1989-03-09\n",
      "age for row  60000  is  26\n",
      "birthdate for row  80000  is  1989-03-09\n",
      "age for row  80000  is  26\n",
      "Could not parse birthdateStr  nan\n",
      "birthdate for row  100000  is  1997-09-30\n",
      "age for row  100000  is  17\n",
      "birthdate for row  120000  is  1995-10-31\n",
      "age for row  120000  is  19\n",
      "birthdate for row  140000  is  1970-10-31\n",
      "age for row  140000  is  44\n",
      "birthdate for row  160000  is  1963-01-31\n",
      "age for row  160000  is  52\n",
      "birthdate for row  180000  is  1999-10-31\n",
      "age for row  180000  is  15\n",
      "birthdate for row  200000  is  1989-03-09\n",
      "age for row  200000  is  26\n",
      "birthdate for row  220000  is  1934-01-31\n",
      "age for row  220000  is  81\n",
      "birthdate for row  240000  is  1999-10-31\n",
      "age for row  240000  is  15\n",
      "birthdate for row  260000  is  1999-04-30\n",
      "age for row  260000  is  16\n",
      "birthdate for row  280000  is  1996-01-31\n",
      "age for row  280000  is  19\n",
      "birthdate for row  300000  is  1986-02-28\n",
      "age for row  300000  is  29\n",
      "birthdate for row  320000  is  1963-02-28\n",
      "age for row  320000  is  52\n",
      "birthdate for row  340000  is  1989-03-09\n",
      "age for row  340000  is  26\n",
      "birthdate for row  360000  is  1981-05-31\n",
      "age for row  360000  is  34\n",
      "birthdate for row  380000  is  1971-01-31\n",
      "age for row  380000  is  44\n",
      "birthdate for row  400000  is  1995-11-30\n",
      "age for row  400000  is  19\n",
      "birthdate for row  420000  is  1992-11-30\n",
      "age for row  420000  is  22\n",
      "birthdate for row  440000  is  1996-06-30\n",
      "age for row  440000  is  19\n",
      "birthdate for row  460000  is  1946-08-31\n",
      "age for row  460000  is  68\n",
      "birthdate for row  480000  is  1996-06-30\n",
      "age for row  480000  is  19\n",
      "birthdate for row  500000  is  1963-03-31\n",
      "age for row  500000  is  52\n",
      "birthdate for row  520000  is  1993-11-30\n",
      "age for row  520000  is  21\n",
      "Number of missing values is  0\n",
      "Total number of data points =  533291\n"
     ]
    },
    {
     "data": {
      "image/png": "[encoded data removed]",
      "text/plain": [
       "<matplotlib.figure.Figure at 0x10707c5d0>"
      ]
     },
     "metadata": {},
     "output_type": "display_data"
    }
   ],
   "source": [
    "if __name__ == \"__main__\":\n",
    "    \n",
    "    # keep track of the number of missing values, i.e. empty birthdate strings\n",
    "    nMissing = 0\n",
    "\n",
    "    # Some users have put in a false birthdate, so we have to filter out\n",
    "    # the \"legitimate\" ages.\n",
    "    # The minimum age for using ExperienceProject is 13, so it is legitAgeMin\n",
    "    # The maximum age is more arbitrary.  100 seems reasonable.\n",
    "    legitAgeMin = 13 \n",
    "    legitAgeMax = 100\n",
    "\n",
    "    # contains all data, including missing or corrupt values (which are assigned an age of 0)\n",
    "    # and ages outside the range [legitAgeMin, legitAgeMax].\n",
    "    allAgeList = [] \n",
    "    \n",
    "    # only contains ages within [legitAgeMin, legitAgeMax]\n",
    "    legitAgeList = [] \n",
    "\n",
    "    # CHANGE THIS TO YOUR LOCATION OF THE DATA FILE\n",
    "    dataFilePath = \"/Users/dharshid/CDIPS_Project/data/EP_data.csv\"\n",
    "    import pandas as pd\n",
    "    EPData = pd.read_csv(\"../EP_data.csv\")\n",
    "    \n",
    "    for irow in range(0,EPData.shape[0]):\n",
    "        if EPData.loc[irow,'birthdate']==\"\":\n",
    "            age = 0\n",
    "            nMissing += 1\n",
    "            allAgeList.append(age)\n",
    "        else:\n",
    "            age = calculate_age(EPData.loc[irow,'birthdate'])\n",
    "            if age > legitAgeMax or age < legitAgeMin:\n",
    "                allAgeList.append(age)\n",
    "            else:\n",
    "                allAgeList.append(age)\n",
    "                legitAgeList.append(age)\n",
    "\n",
    "        # print info every several iterations to make sure code is running\n",
    "        if irow % 20000 == 0:\n",
    "            print \"birthdate for row \", irow, \" is \", EPData.loc[irow,'birthdate']\n",
    "            print \"age for row \", irow, \" is \", age\n",
    "\n",
    "    print \"Number of missing values is \", nMissing\n",
    "\n",
    "    # Need this line or matplotlib won't plot within iPython Notebook\n",
    "    %matplotlib inline\n",
    "    drawHistogram(np.array(legitAgeList))"
   ]
  },
  {
   "cell_type": "code",
   "execution_count": 14,
   "metadata": {
    "collapsed": false
   },
   "outputs": [],
   "source": [
    "EPData['age'] = allAgeList"
   ]
  },
  {
   "cell_type": "code",
   "execution_count": 18,
   "metadata": {
    "collapsed": false
   },
   "outputs": [],
   "source": [
    "import pandas as pd\n",
    "EPData.to_csv(\"EP_with_age.csv\")"
   ]
  },
  {
   "cell_type": "code",
   "execution_count": 55,
   "metadata": {
    "collapsed": false
   },
   "outputs": [],
   "source": [
    "#import statsmodels.api as sm\n",
    "from statsmodels.formula.api import ols\n",
    "import matplotlib.pyplot as plt\n",
    "%matplotlib inline"
   ]
  },
  {
   "cell_type": "code",
   "execution_count": 22,
   "metadata": {
    "collapsed": true
   },
   "outputs": [],
   "source": [
    "fans_lm=ols('num_fans ~ C(gender)', data=EPData).fit()"
   ]
  },
  {
   "cell_type": "code",
   "execution_count": 58,
   "metadata": {
    "collapsed": false
   },
   "outputs": [],
   "source": [
    "#EPData = pd.read_csv(\"EP_with_age.csv\")\n",
    "Data = EPData.loc[EPData['age']<80,]\n",
    "age = np.array(Data['age'])\n",
    "support = []\n",
    "bin_seq = range(1,20)# a bin size sequence for trial\n",
    "for bin in bin_seq:\n",
    "    age_group = (age-13)/bin  ##if bin is 5, age groups will be 13 - 17, 18 -22, 23-27,...; \n",
    "    #if bin is 10, age groups will be 13 - 22, 23- 32, 33 - 42,...\n",
    "    #print age_group\n",
    "    Data['age_group'] = age_group\n",
    "    fans_lm=ols('num_fans ~ C(age_group)', data=Data).fit()\n",
    "    support.append(fans_lm.fvalue)"
   ]
  },
  {
   "cell_type": "code",
   "execution_count": 59,
   "metadata": {
    "collapsed": false
   },
   "outputs": [
    {
     "data": {
      "image/png": "[encoded data removed]",
      "text/plain": [
       "<matplotlib.figure.Figure at 0x10ebdd5d0>"
      ]
     },
     "metadata": {},
     "output_type": "display_data"
    }
   ],
   "source": [
    "plt.plot(bin_seq,support)\n",
    "plt.show()"
   ]
  },
  {
   "cell_type": "code",
   "execution_count": null,
   "metadata": {
    "collapsed": true
   },
   "outputs": [],
   "source": [
    "EP_small = EP.loc[EP['num_friends']>1000,]\n",
    "pd.DataFrame.boxplot(EP_small,'num_fans','gender')"
   ]
  },
  {
   "cell_type": "code",
   "execution_count": 53,
   "metadata": {
    "collapsed": false
   },
   "outputs": [
    {
     "data": {
      "text/plain": [
       "[1, 3, 5, 7, 9]"
      ]
     },
     "execution_count": 53,
     "metadata": {},
     "output_type": "execute_result"
    }
   ],
   "source": [
    "range(1,10,2)"
   ]
  },
  {
   "cell_type": "code",
   "execution_count": null,
   "metadata": {
    "collapsed": true
   },
   "outputs": [],
   "source": []
  }
 ],
 "metadata": {
  "kernelspec": {
   "display_name": "Python 2",
   "language": "python",
   "name": "python2"
  },
  "language_info": {
   "codemirror_mode": {
    "name": "ipython",
    "version": 2
   },
   "file_extension": ".py",
   "mimetype": "text/x-python",
   "name": "python",
   "nbconvert_exporter": "python",
   "pygments_lexer": "ipython2",
   "version": "2.7.10"
  }
 },
 "nbformat": 4,
 "nbformat_minor": 0
}
