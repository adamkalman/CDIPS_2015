{
 "cells": [
  {
   "cell_type": "code",
   "execution_count": null,
   "metadata": {
    "collapsed": false
   },
   "outputs": [],
   "source": [
    "import play_with_data"
   ]
  },
  {
   "cell_type": "code",
   "execution_count": null,
   "metadata": {
    "collapsed": false
   },
   "outputs": [],
   "source": [
    "from dateutil.parser import parse\n",
    "from datetime import datetime, date\n",
    "\n",
    "def string2DateTime(dateStr):\n",
    "    \"\"\" function converts a string containing a date into a datetime object.  \n",
    "    The date must be in one of the following two formats: \"YYYY-MM-DD\" or \"YYYY-MM-DD HH:MM:SS\"\n",
    "      \n",
    "    Documentation for datetime objects: \n",
    "        https://docs.python.org/2/library/datetime.html#datetime \"\"\"\n",
    "    \n",
    "    return parse(dateStr)\n",
    "    \n",
    "def calculate_age(birthdateStr):\n",
    "    try:\n",
    "        birthdate = parse(birthdateStr).date()\n",
    "    except AttributeError:\n",
    "        print \"Could not parse birthdateStr \", birthdateStr\n",
    "        return 0\n",
    "    today = date.today()\n",
    "    hasBirthdayNotPassed = ((today.month, today.day) < (birthdate.month, birthdate.day))\n",
    "    # Use fact that FALSE converts to 0 and TRUE converts to 1 to subtract 1 if birthday\n",
    "    # has NOT passed.\n",
    "    return today.year - birthdate.year - int(hasBirthdayNotPassed)\n",
    "\n",
    "    \n",
    "nMissing = 0  \n",
    "# contains all data, including missing values which are assigned an age of 0\n",
    "allAgeList = [] \n",
    "# only contains ages of known data\n",
    "ageList = [] \n",
    "#for doc in play_with_data.csv_iterator(play_with_data.datafile):\n",
    "import pandas as pd\n",
    "EPData = pd.read_csv(\"/Users/dharshid/CDIPS_Project/data/EP_data.csv\")\n",
    "for irow in range(0,EPData.shape[0]):\n",
    "    if irow % 10000 == 0:\n",
    "        print EPData.loc[irow,'birthdate']\n",
    "  \n",
    "    if EPData.loc[irow,'birthdate']==\"\":\n",
    "        age = 0\n",
    "        nMissing += 1\n",
    "        allAgeList.append(age)\n",
    "    else:\n",
    "        age = calculate_age(EPData.loc[irow,'birthdate'])\n",
    "        allAgeList.append(age)\n",
    "        ageList.append(age)\n",
    "        \n",
    "    # print id every several iterations to make sure code is running\n",
    "    if irow % 10000 == 0:\n",
    "        print irow, \" age = \", age\n",
    "\n",
    "                \n",
    "print nMissing\n",
    "    \n"
   ]
  },
  {
   "cell_type": "code",
   "execution_count": null,
   "metadata": {
    "collapsed": false
   },
   "outputs": [],
   "source": [
    "import numpy as np\n",
    "for i in range(0,len(ageList)):\n",
    "    if ageList[i] > 100 or ageList[i] < 0:\n",
    "        print i, EPData.loc[i,'birthdate'], ageList[i]\n",
    "        "
   ]
  },
  {
   "cell_type": "code",
   "execution_count": null,
   "metadata": {
    "collapsed": false
   },
   "outputs": [],
   "source": [
    "np.histogram(np.array(ageList))"
   ]
  },
  {
   "cell_type": "code",
   "execution_count": 5,
   "metadata": {
    "collapsed": false
   },
   "outputs": [
    {
     "name": "stdout",
     "output_type": "stream",
     "text": [
      "done\n"
     ]
    }
   ],
   "source": [
    "import pandas as pd\n",
    "EP = pd.read_csv(\"/Users/dharshid/CDIPS_Project/data/EP_data.csv\", nrows = 350)\n",
    "print \"done\""
   ]
  },
  {
   "cell_type": "code",
   "execution_count": null,
   "metadata": {
    "collapsed": false
   },
   "outputs": [],
   "source": [
    "EP.loc[340,'birthdate']"
   ]
  },
  {
   "cell_type": "code",
   "execution_count": null,
   "metadata": {
    "collapsed": false
   },
   "outputs": [],
   "source": [
    "EP.columns"
   ]
  },
  {
   "cell_type": "code",
   "execution_count": null,
   "metadata": {
    "collapsed": false
   },
   "outputs": [],
   "source": [
    "EP.loc[342,'birthdate']"
   ]
  },
  {
   "cell_type": "code",
   "execution_count": 2,
   "metadata": {
    "collapsed": false
   },
   "outputs": [
    {
     "data": {
      "text/plain": [
       "350"
      ]
     },
     "execution_count": 2,
     "metadata": {},
     "output_type": "execute_result"
    }
   ],
   "source": [
    "EP.shape[0]"
   ]
  },
  {
   "cell_type": "code",
   "execution_count": 6,
   "metadata": {
    "collapsed": true
   },
   "outputs": [],
   "source": [
    "import numpy as np\n",
    "import matplotlib.pyplot as plt\n",
    "%matplotlib inline"
   ]
  },
  {
   "cell_type": "code",
   "execution_count": 7,
   "metadata": {
    "collapsed": false
   },
   "outputs": [
    {
     "name": "stdout",
     "output_type": "stream",
     "text": [
      "[321   9   7   2   0   0   0   0   0  11]\n",
      "[  1.00000000e+00   5.68100000e+02   1.13520000e+03   1.70230000e+03\n",
      "   2.26940000e+03   2.83650000e+03   3.40360000e+03   3.97070000e+03\n",
      "   4.53780000e+03   5.10490000e+03   5.67200000e+03]\n"
     ]
    }
   ],
   "source": [
    "fansHist, fansBins = np.histogram(np.array(EP.loc[:,'num_fans']))\n",
    "print fansHist\n",
    "print fansBins"
   ]
  },
  {
   "cell_type": "code",
   "execution_count": 2,
   "metadata": {
    "collapsed": false
   },
   "outputs": [
    {
     "name": "stdout",
     "output_type": "stream",
     "text": [
      "[ 0.5  0.   0.5  0.   0.   0.5  0.   0.5  0.   0.5]\n",
      "[ 0.   0.4  0.8  1.2  1.6  2.   2.4  2.8  3.2  3.6  4. ]\n"
     ]
    }
   ],
   "source": [
    "a = np.arange(5)\n",
    "hist, bin_edges = np.histogram(a, density=True)\n",
    "print hist\n",
    "print bin_edges"
   ]
  },
  {
   "cell_type": "code",
   "execution_count": 8,
   "metadata": {
    "collapsed": false
   },
   "outputs": [
    {
     "name": "stdout",
     "output_type": "stream",
     "text": [
      "396.97\n",
      "[  284.55   851.65  1418.75  1985.85  2552.95  3120.05  3687.15  4254.25\n",
      "  4821.35  5388.45]\n"
     ]
    }
   ],
   "source": [
    "width = 0.7 * (fansBins[1] - fansBins[0])\n",
    "center = (fansBins[:-1] + fansBins[1:]) / 2\n",
    "print width\n",
    "print center\n"
   ]
  },
  {
   "cell_type": "code",
   "execution_count": 9,
   "metadata": {
    "collapsed": false
   },
   "outputs": [
    {
     "data": {
      "image/png": "[encoded data removed]",
      "text/plain": [
       "<matplotlib.figure.Figure at 0x106718110>"
      ]
     },
     "metadata": {},
     "output_type": "display_data"
    },
    {
     "name": "stdout",
     "output_type": "stream",
     "text": [
      "done\n"
     ]
    }
   ],
   "source": [
    "plt.bar(center, fansHist, align='center', width=width)\n",
    "plt.show()\n",
    "print \"done\""
   ]
  },
  {
   "cell_type": "code",
   "execution_count": 10,
   "metadata": {
    "collapsed": false
   },
   "outputs": [
    {
     "name": "stdout",
     "output_type": "stream",
     "text": [
      "[321   9   7   2   0   0   0   0   0  11]\n"
     ]
    }
   ],
   "source": [
    "print fansHist"
   ]
  },
  {
   "cell_type": "code",
   "execution_count": 11,
   "metadata": {
    "collapsed": false
   },
   "outputs": [
    {
     "name": "stdout",
     "output_type": "stream",
     "text": [
      "[  1.00000000e+00   5.68100000e+02   1.13520000e+03   1.70230000e+03\n",
      "   2.26940000e+03   2.83650000e+03   3.40360000e+03   3.97070000e+03\n",
      "   4.53780000e+03   5.10490000e+03   5.67200000e+03]\n"
     ]
    }
   ],
   "source": [
    "print fansBins"
   ]
  },
  {
   "cell_type": "code",
   "execution_count": null,
   "metadata": {
    "collapsed": true
   },
   "outputs": [],
   "source": []
  }
 ],
 "metadata": {
  "kernelspec": {
   "display_name": "Python 2",
   "language": "python",
   "name": "python2"
  },
  "language_info": {
   "codemirror_mode": {
    "name": "ipython",
    "version": 2
   },
   "file_extension": ".py",
   "mimetype": "text/x-python",
   "name": "python",
   "nbconvert_exporter": "python",
   "pygments_lexer": "ipython2",
   "version": "2.7.10"
  }
 },
 "nbformat": 4,
 "nbformat_minor": 0
}
