{
 "cells": [
  {
   "cell_type": "code",
   "execution_count": 1,
   "metadata": {
    "collapsed": true
   },
   "outputs": [],
   "source": [
    "import pandas as pd\n",
    "import numpy as np\n",
    "from statsmodels.formula.api import ols\n",
    "import matplotlib.pyplot as plt\n",
    "%matplotlib inline"
   ]
  },
  {
   "cell_type": "code",
   "execution_count": 13,
   "metadata": {
    "collapsed": true
   },
   "outputs": [],
   "source": [
    "def age_grouping(age,data,var_target,bin_max,age_range):\n",
    "    \"\"\" Choose the bin size for age grouping by maximizing the \n",
    "    F statistic, i.e. the ratio between cross-group variation \n",
    "    and within-group variation, of the target variable (var_target).\n",
    "    \n",
    "    bin_max specifies the maximal bin size to be considered.\n",
    "    \n",
    "    age_max specifies the maximal age to be considered.\"\"\"\n",
    "    \n",
    "    # Select data with age under the maximal age\n",
    "    \n",
    "    Data = data\n",
    "    Data['age'] = age\n",
    "    Data = Data.loc[Data['age'] < age_range[1],]\n",
    "    Data = Data.loc[Data['age'] > age_range[0],]\n",
    "    \n",
    "    # Create a sequence of bin size for trial\n",
    "    bin_seq = range(1,bin_max)\n",
    "    # Create a list to contain the F statistics for the given sequence of bin size\n",
    "    support = [] \n",
    "    \n",
    "    for bin_size in bin_seq:\n",
    "        age_group = (np.array(Data['age'])-age_range[0])/bin_size\n",
    "        # if bin_size is 5, age groups will be 13 - 17, 18 -22, 23-27,...; \n",
    "        # if bin_size is 10, age groups will be 13 - 22, 23- 32, 33 - 42,...\n",
    "        Data['age_group'] = age_group\n",
    "        # Calculate F statistic using ordinary least square method\n",
    "        lF = 0\n",
    "        ## Multiply the F statistic for all target variables\n",
    "        for target in var_target:\n",
    "            formula = target + '~ C(age_group)'\n",
    "            lm = ols(formula, data=Data).fit()\n",
    "            lF = lF + np.log(lm.fvalue)\n",
    "        \n",
    "        support.append(lF)\n",
    "        print \"bin size = \", bin_size, \"log(F) = \",lF\n",
    "        \n",
    "    # Order the bin size by their F statistic (from the highest to the lowest)\n",
    "    return bin_seq,support"
   ]
  },
  {
   "cell_type": "code",
   "execution_count": 3,
   "metadata": {
    "collapsed": false
   },
   "outputs": [],
   "source": [
    "# Read in data from the directory where you keep it\n",
    "EPData = pd.read_csv(\"../EP_with_age.csv\")\n",
    "# I have written age as a column into the file \n",
    "# so I am reading it directly from the data.\n",
    "# If you haven't done so you need to calculate it first (refer to age.py).\n",
    "age = EPData['age']"
   ]
  },
  {
   "cell_type": "code",
   "execution_count": 16,
   "metadata": {
    "collapsed": false
   },
   "outputs": [
    {
     "name": "stdout",
     "output_type": "stream",
     "text": [
      "bin size =  1 log(F) =  36.2097596282\n",
      "bin size =  2 log(F) =  37.6310402366\n",
      "bin size =  3 log(F) =  38.2284250758\n",
      "bin size =  4 log(F) =  39.1798012265\n",
      "bin size =  5 log(F) =  39.7958311961\n",
      "bin size =  6 log(F) =  39.4539794664\n",
      "bin size =  7 log(F) =  39.471704926\n",
      "bin size =  8 log(F) =  39.4324184726\n",
      "bin size =  9 log(F) =  40.8201045184\n",
      "bin size =  10 log(F) =  40.6458492055\n",
      "bin size =  11 log(F) =  41.6757306214\n",
      "bin size =  12 log(F) =  40.1534409834\n",
      "bin size =  13 log(F) =  40.9997798281\n",
      "bin size =  14 log(F) =  40.4507588933\n",
      "bin size =  15 log(F) =  40.231896617\n",
      "bin size =  16 log(F) =  38.8142316486\n",
      "bin size =  17 log(F) =  40.5781619249\n",
      "bin size =  18 log(F) =  40.2081810968\n",
      "bin size =  19 log(F) =  40.4822310734\n"
     ]
    }
   ],
   "source": [
    "# The variables we want to maximize the F statistics for. You can use all available numeric variables but it's slow:\n",
    "var_target = ['num_friends','num_fans','num_groups','num_logins','num_comments']\n",
    "# var_target = ['num_friends','num_groups']\n",
    "# The maximal bin size in years\n",
    "bin_max = 20\n",
    "# The range of reasonable age to be taken into calculation\n",
    "age_range = [13,80]\n",
    "grouping_result = age_grouping(age,EPData,var_target,bin_max,age_range)    "
   ]
  },
  {
   "cell_type": "code",
   "execution_count": 17,
   "metadata": {
    "collapsed": false
   },
   "outputs": [
    {
     "data": {
      "image/png": "[encoded data removed]",
      "text/plain": [
       "<matplotlib.figure.Figure at 0x108d9d0d0>"
      ]
     },
     "metadata": {},
     "output_type": "display_data"
    },
    {
     "name": "stdout",
     "output_type": "stream",
     "text": [
      "11 41.6757306214\n",
      "13 40.9997798281\n",
      "9 40.8201045184\n",
      "10 40.6458492055\n",
      "17 40.5781619249\n",
      "19 40.4822310734\n",
      "14 40.4507588933\n",
      "15 40.231896617\n",
      "18 40.2081810968\n",
      "12 40.1534409834\n",
      "5 39.7958311961\n",
      "7 39.471704926\n",
      "6 39.4539794664\n",
      "8 39.4324184726\n",
      "4 39.1798012265\n",
      "16 38.8142316486\n",
      "3 38.2284250758\n",
      "2 37.6310402366\n",
      "1 36.2097596282\n"
     ]
    }
   ],
   "source": [
    "# Plot log(F) against the bin size\n",
    "plt.plot(grouping_result[0],grouping_result[1])\n",
    "plt.xlabel('bin size')\n",
    "plt.ylabel('log(F)')\n",
    "plt.show()\n",
    "sorted_result = zip(grouping_result[0],grouping_result[1])\n",
    "\n",
    "# Sort the bin size by their F score\n",
    "for bin_size, lF in sorted(sorted_result, key=lambda sorted_result:sorted_result[1],reverse=True):\n",
    "    print bin_size, lF"
   ]
  },
  {
   "cell_type": "code",
   "execution_count": null,
   "metadata": {
    "collapsed": true
   },
   "outputs": [],
   "source": []
  }
 ],
 "metadata": {
  "kernelspec": {
   "display_name": "Python 2",
   "language": "python",
   "name": "python2"
  },
  "language_info": {
   "codemirror_mode": {
    "name": "ipython",
    "version": 2
   },
   "file_extension": ".py",
   "mimetype": "text/x-python",
   "name": "python",
   "nbconvert_exporter": "python",
   "pygments_lexer": "ipython2",
   "version": "2.7.10"
  }
 },
 "nbformat": 4,
 "nbformat_minor": 0
}
