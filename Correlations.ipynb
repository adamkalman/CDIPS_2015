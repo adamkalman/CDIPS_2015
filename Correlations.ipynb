{
 "cells": [
  {
   "cell_type": "code",
   "execution_count": 32,
   "metadata": {
    "collapsed": false
   },
   "outputs": [],
   "source": [
    "#!/usr/bin/env python\n",
    "\n",
    "\"\"\"\n",
    "Determine and plot correlations between values from EP_data.csv\n",
    "You can turn this into a python script using the command: \n",
    "ipython nbconvert --to python Correlations.ipynb\n",
    "\"\"\"\n",
    "\n",
    "%matplotlib inline\n",
    "\n",
    "import pandas as pd\n",
    "import matplotlib.pyplot as plt\n",
    "import numpy as np\n",
    "\n",
    "datafile = pd.read_csv('EP_data.csv')"
   ]
  },
  {
   "cell_type": "code",
   "execution_count": 43,
   "metadata": {
    "collapsed": false
   },
   "outputs": [
    {
     "name": "stdout",
     "output_type": "stream",
     "text": [
      "here's a report of the dataset's basic characteristics:\n",
      "the dataset has 534305 entries and 16 variables\n",
      "the values vary as:\n",
      "          num_groups    num_entries       num_fans    num_friends  \\\n",
      "count  534305.000000  534305.000000  534305.000000  534305.000000   \n",
      "mean      742.328756    4935.220947     574.018952      72.492224   \n",
      "std      4400.139494   16876.095797    1478.743646     306.584001   \n",
      "min         0.000000       0.000000       0.000000       0.000000   \n",
      "25%        28.000000       9.000000      11.000000       1.000000   \n",
      "50%       107.000000      37.000000      53.000000      10.000000   \n",
      "75%       374.000000     206.000000     223.000000      38.000000   \n",
      "max     94002.000000   65535.000000   26038.000000   25445.000000   \n",
      "\n",
      "          num_logins             gid          votes   num_comments  \n",
      "count  534305.000000   534305.000000  534305.000000  534305.000000  \n",
      "mean      426.399326   316756.950596       3.397346       2.040011  \n",
      "std      1175.184105   338784.017951      12.010274       4.114601  \n",
      "min         1.000000       20.000000       0.000000       0.000000  \n",
      "25%         3.000000    18330.000000       0.000000       0.000000  \n",
      "50%        21.000000   173606.000000       2.000000       1.000000  \n",
      "75%       285.000000   579870.000000       4.000000       2.000000  \n",
      "max     37051.000000  1044943.000000    7631.000000     269.000000  \n",
      "the pearson correlations between all variable are:\n",
      "              num_groups  num_entries  num_fans  num_friends  num_logins  \\\n",
      "num_groups      1.000000    -0.020664  0.033811     0.284786    0.314630   \n",
      "num_entries    -0.020664     1.000000  0.963636    -0.042659   -0.075076   \n",
      "num_fans        0.033811     0.963636  1.000000     0.162400    0.017722   \n",
      "num_friends     0.284786    -0.042659  0.162400     1.000000    0.308966   \n",
      "num_logins      0.314630    -0.075076  0.017722     0.308966    1.000000   \n",
      "gid             0.030412    -0.012308 -0.005977     0.032428    0.027082   \n",
      "votes          -0.001219     0.014202  0.048651     0.073649    0.026861   \n",
      "num_comments   -0.004053     0.014943  0.073748     0.119554    0.034778   \n",
      "\n",
      "                   gid     votes  num_comments  \n",
      "num_groups    0.030412 -0.001219     -0.004053  \n",
      "num_entries  -0.012308  0.014202      0.014943  \n",
      "num_fans     -0.005977  0.048651      0.073748  \n",
      "num_friends   0.032428  0.073649      0.119554  \n",
      "num_logins    0.027082  0.026861      0.034778  \n",
      "gid           1.000000 -0.031487     -0.040568  \n",
      "votes        -0.031487  1.000000      0.365521  \n",
      "num_comments -0.040568  0.365521      1.000000  \n"
     ]
    }
   ],
   "source": [
    "print(\"here's a report of the dataset's basic characteristics:\")\n",
    "print(\"the dataset has %s entries and %s variables\") % (datafile.shape[0],datafile.shape[1])\n",
    "\n",
    "print(\"the values vary as:\")\n",
    "print(datafile.describe())\n",
    "\n",
    "print(\"the pearson correlations between all variable are:\")\n",
    "print(datafile.corr())"
   ]
  },
  {
   "cell_type": "code",
   "execution_count": 47,
   "metadata": {
    "collapsed": false
   },
   "outputs": [
    {
     "name": "stdout",
     "output_type": "stream",
     "text": [
      "Axes(0.125,0.125;0.775x0.775)\n",
      "as you can see, there are two outliers\n"
     ]
    },
    {
     "data": {
      "image/png": "[encoded data removed]",
      "text/plain": [
       "<matplotlib.figure.Figure at 0x14134d8d0>"
      ]
     },
     "metadata": {},
     "output_type": "display_data"
    }
   ],
   "source": [
    "#since the number of entries is very highly correlated with the number of fans, I am plotting this\n",
    "print(datafile.plot(kind='scatter',x=\"num_entries\",y=\"num_fans\"))\n",
    "print(\"as you can see, there are two outliers\")"
   ]
  },
  {
   "cell_type": "code",
   "execution_count": 60,
   "metadata": {
    "collapsed": false
   },
   "outputs": [
    {
     "name": "stdout",
     "output_type": "stream",
     "text": [
      "there is one member with 26038 fans. The far second only has 3,446 fans.\n"
     ]
    },
    {
     "data": {
      "text/html": [
       "<div style=\"max-height:1000px;max-width:1500px;overflow:auto;\">\n",
       "<table border=\"1\" class=\"dataframe\">\n",
       "  <thead>\n",
       "    <tr style=\"text-align: right;\">\n",
       "      <th></th>\n",
       "      <th>gender</th>\n",
       "      <th>num_groups</th>\n",
       "      <th>num_entries</th>\n",
       "      <th>num_fans</th>\n",
       "      <th>num_friends</th>\n",
       "      <th>created</th>\n",
       "      <th>last_login</th>\n",
       "      <th>num_logins</th>\n",
       "      <th>last_wall_activity</th>\n",
       "      <th>last_circle_activity</th>\n",
       "      <th>birthdate</th>\n",
       "      <th>gid</th>\n",
       "      <th>content</th>\n",
       "      <th>date_posted</th>\n",
       "      <th>votes</th>\n",
       "      <th>num_comments</th>\n",
       "    </tr>\n",
       "  </thead>\n",
       "  <tbody>\n",
       "    <tr>\n",
       "      <th>152091</th>\n",
       "      <td>U</td>\n",
       "      <td>0</td>\n",
       "      <td>65535</td>\n",
       "      <td>5672</td>\n",
       "      <td>0</td>\n",
       "      <td>2008-04-21</td>\n",
       "      <td>2012-11-13 18:03:23</td>\n",
       "      <td>5</td>\n",
       "      <td>2009-03-27 21:22:12</td>\n",
       "      <td>0000-00-00 00:00:00</td>\n",
       "      <td>1989-03-09</td>\n",
       "      <td>117528</td>\n",
       "      <td>What color it the dress . . . The world may ne...</td>\n",
       "      <td>2015-02-27 15:09:17</td>\n",
       "      <td>0</td>\n",
       "      <td>5</td>\n",
       "    </tr>\n",
       "    <tr>\n",
       "      <th>488216</th>\n",
       "      <td>U</td>\n",
       "      <td>0</td>\n",
       "      <td>65535</td>\n",
       "      <td>5672</td>\n",
       "      <td>0</td>\n",
       "      <td>2008-04-21</td>\n",
       "      <td>2012-11-13 18:03:23</td>\n",
       "      <td>5</td>\n",
       "      <td>2009-03-27 21:22:12</td>\n",
       "      <td>0000-00-00 00:00:00</td>\n",
       "      <td>1989-03-09</td>\n",
       "      <td>189445</td>\n",
       "      <td>I think if you love, the age doesn't play any ...</td>\n",
       "      <td>2015-06-26 17:40:07</td>\n",
       "      <td>30</td>\n",
       "      <td>17</td>\n",
       "    </tr>\n",
       "    <tr>\n",
       "      <th>83985</th>\n",
       "      <td>U</td>\n",
       "      <td>0</td>\n",
       "      <td>65535</td>\n",
       "      <td>5672</td>\n",
       "      <td>0</td>\n",
       "      <td>2008-04-21</td>\n",
       "      <td>2012-11-13 18:03:23</td>\n",
       "      <td>5</td>\n",
       "      <td>2009-03-27 21:22:12</td>\n",
       "      <td>0000-00-00 00:00:00</td>\n",
       "      <td>1989-03-09</td>\n",
       "      <td>68</td>\n",
       "      <td>Want to have that person above it all and don'...</td>\n",
       "      <td>2015-01-30 15:54:06</td>\n",
       "      <td>1</td>\n",
       "      <td>0</td>\n",
       "    </tr>\n",
       "    <tr>\n",
       "      <th>408966</th>\n",
       "      <td>U</td>\n",
       "      <td>0</td>\n",
       "      <td>65535</td>\n",
       "      <td>5672</td>\n",
       "      <td>0</td>\n",
       "      <td>2008-04-21</td>\n",
       "      <td>2012-11-13 18:03:23</td>\n",
       "      <td>5</td>\n",
       "      <td>2009-03-27 21:22:12</td>\n",
       "      <td>0000-00-00 00:00:00</td>\n",
       "      <td>1989-03-09</td>\n",
       "      <td>109</td>\n",
       "      <td>I am starting to except I am a loser in life ....</td>\n",
       "      <td>2015-06-01 07:03:30</td>\n",
       "      <td>2</td>\n",
       "      <td>5</td>\n",
       "    </tr>\n",
       "    <tr>\n",
       "      <th>408975</th>\n",
       "      <td>U</td>\n",
       "      <td>0</td>\n",
       "      <td>65535</td>\n",
       "      <td>5672</td>\n",
       "      <td>0</td>\n",
       "      <td>2008-04-21</td>\n",
       "      <td>2012-11-13 18:03:23</td>\n",
       "      <td>5</td>\n",
       "      <td>2009-03-27 21:22:12</td>\n",
       "      <td>0000-00-00 00:00:00</td>\n",
       "      <td>1989-03-09</td>\n",
       "      <td>691285</td>\n",
       "      <td>I just spent the last 2 hours fucking myself w...</td>\n",
       "      <td>2015-06-01 07:08:24</td>\n",
       "      <td>0</td>\n",
       "      <td>1</td>\n",
       "    </tr>\n",
       "  </tbody>\n",
       "</table>\n",
       "</div>"
      ],
      "text/plain": [
       "       gender  num_groups  num_entries  num_fans  num_friends     created  \\\n",
       "152091      U           0        65535      5672            0  2008-04-21   \n",
       "488216      U           0        65535      5672            0  2008-04-21   \n",
       "83985       U           0        65535      5672            0  2008-04-21   \n",
       "408966      U           0        65535      5672            0  2008-04-21   \n",
       "408975      U           0        65535      5672            0  2008-04-21   \n",
       "\n",
       "                 last_login  num_logins   last_wall_activity  \\\n",
       "152091  2012-11-13 18:03:23           5  2009-03-27 21:22:12   \n",
       "488216  2012-11-13 18:03:23           5  2009-03-27 21:22:12   \n",
       "83985   2012-11-13 18:03:23           5  2009-03-27 21:22:12   \n",
       "408966  2012-11-13 18:03:23           5  2009-03-27 21:22:12   \n",
       "408975  2012-11-13 18:03:23           5  2009-03-27 21:22:12   \n",
       "\n",
       "       last_circle_activity   birthdate     gid  \\\n",
       "152091  0000-00-00 00:00:00  1989-03-09  117528   \n",
       "488216  0000-00-00 00:00:00  1989-03-09  189445   \n",
       "83985   0000-00-00 00:00:00  1989-03-09      68   \n",
       "408966  0000-00-00 00:00:00  1989-03-09     109   \n",
       "408975  0000-00-00 00:00:00  1989-03-09  691285   \n",
       "\n",
       "                                                  content  \\\n",
       "152091  What color it the dress . . . The world may ne...   \n",
       "488216  I think if you love, the age doesn't play any ...   \n",
       "83985   Want to have that person above it all and don'...   \n",
       "408966  I am starting to except I am a loser in life ....   \n",
       "408975  I just spent the last 2 hours fucking myself w...   \n",
       "\n",
       "                date_posted  votes  num_comments  \n",
       "152091  2015-02-27 15:09:17      0             5  \n",
       "488216  2015-06-26 17:40:07     30            17  \n",
       "83985   2015-01-30 15:54:06      1             0  \n",
       "408966  2015-06-01 07:03:30      2             5  \n",
       "408975  2015-06-01 07:08:24      0             1  "
      ]
     },
     "execution_count": 60,
     "metadata": {},
     "output_type": "execute_result"
    }
   ],
   "source": [
    "datafile.sort(columns='num_fans', ascending=False).head()\n",
    "print(\"there is one member with 26038 fans. The far second only has 3,446 fans.\")\n",
    "datafile.sort(columns='num_entries', ascending=False).head()"
   ]
  },
  {
   "cell_type": "code",
   "execution_count": null,
   "metadata": {
    "collapsed": true
   },
   "outputs": [],
   "source": []
  }
 ],
 "metadata": {
  "kernelspec": {
   "display_name": "Python 2",
   "language": "python",
   "name": "python2"
  },
  "language_info": {
   "codemirror_mode": {
    "name": "ipython",
    "version": 2
   },
   "file_extension": ".py",
   "mimetype": "text/x-python",
   "name": "python",
   "nbconvert_exporter": "python",
   "pygments_lexer": "ipython2",
   "version": "2.7.10"
  }
 },
 "nbformat": 4,
 "nbformat_minor": 0
}
