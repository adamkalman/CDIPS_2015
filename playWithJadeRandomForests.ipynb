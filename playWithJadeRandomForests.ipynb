{
 "cells": [
  {
   "cell_type": "code",
   "execution_count": null,
   "metadata": {
    "collapsed": false,
    "scrolled": true
   },
   "outputs": [],
   "source": [
    "import pandas as pd\n",
    "import numpy as np\n",
    "from bs4 import BeautifulSoup\n",
    "import re\n",
    "import nltk\n",
    "#nltk.download()\n",
    "from nltk.corpus import stopwords # Import the stop word list\n",
    "from sklearn.cross_validation import train_test_split\n",
    "from sklearn.feature_extraction.text import CountVectorizer\n",
    "from sklearn.ensemble import RandomForestClassifier\n",
    "\n",
    "def status_to_words(raw_status):\n",
    "    # Function to convert a raw status to a string of words\n",
    "    # The input is a single string (a raw status update), and \n",
    "    # the output is a single string (a preprocessed status update)\n",
    "    #\n",
    "    # 1. Remove HTML\n",
    "    status_text = BeautifulSoup(raw_status).get_text() \n",
    "    #\n",
    "    # 2. Remove non-letters        \n",
    "    letters_only = re.sub(\"[^a-zA-Z]\", \" \", status_text)\n",
    "    # remove http URLs\n",
    "    letters_only = re.sub(r\"[^https?:\\/\\/.*[\\r\\n]*]\", \"\", letters_only)\n",
    "    #\n",
    "    # 3. Convert to lower case, split into individual words\n",
    "    words = letters_only.lower().split()                             \n",
    "    #\n",
    "    # 4. In Python, searching a set is much faster than searching\n",
    "    #   a list, so convert the stop words to a set\n",
    "    stops = set(stopwords.words(\"english\"))\n",
    "    #Remove a few more trivial words not identified by NLTK\n",
    "    stops = stops.union([u'hasn',u'm',u've',u'll',u're',u'didn',u'us',\n",
    "                         u'im',u'doesn',u'couldn',u'won',u'isn',u'http',\n",
    "                         u'www']) \n",
    "    # \n",
    "    # 5. Remove stop words\n",
    "    meaningful_words = [w for w in words if not w in stops]   \n",
    "    #\n",
    "    # 6. Join the words back into one string separated by space, \n",
    "    # and return the result.\n",
    "    return( \" \".join( meaningful_words ))\n",
    "\n",
    "def text_feature(data,text_var,nfeature):\n",
    "    \"\"\"Calculate the text features for the given data.\n",
    "    text_var specifies the name of the column that contains the text.\n",
    "    nfeature specifies the max number of features to be extracted \n",
    "    from the text.\"\"\"\n",
    "    # First clean and parse the text data\n",
    "    clean_statuses = []\n",
    "    nitem = data.shape[0]\n",
    "    data.index=range(nitem)\n",
    "    for i in xrange( 0, nitem):\n",
    "        if( (i+1)%1000 == 0 ):\n",
    "            print \"Status %d of %d\\n\" % ( i+1, nitem)                                                                    \n",
    "        clean_statuses.append( status_to_words(data[text_var][i]))\n",
    "    \n",
    "    # Then extract features from the cleaned text\n",
    "    print \"Creating the bag of words...\\n\"\n",
    "    vectorizer = CountVectorizer(analyzer = \"word\",   \\\n",
    "                             tokenizer = None,    \\\n",
    "                             preprocessor = None, \\\n",
    "                             stop_words = None,   \\\n",
    "                             max_features = nfeature) \n",
    "    data_features = vectorizer.fit_transform(clean_statuses)\n",
    "    data_features = data_features.toarray()\n",
    "    return data_features\n",
    "\n",
    "\n",
    "def rand_forest_predict(data,text_var,target_var,\n",
    "                   train_size,test_size,nfeature,nestimator):\n",
    "    \n",
    "    data_train, data_test = train_test_split(data, train_size=train_size)\n",
    "    data_test = data_test[:test_size]\n",
    "    \n",
    "    print \"data_train is of type \", type(data_train)\n",
    "    \n",
    "    # Calculate text features for the training set\n",
    "    print \"Cleaning and parsing train statuses...\\n\"\n",
    "    train_features = text_feature(data_train,text_var,nfeature)\n",
    "    \n",
    "    # Fit the training set features to a random forest\n",
    "    forest = RandomForestClassifier(n_estimators = nestimator) \n",
    "    print \"Fitting to a random forest with \",nestimator,\" parameters...\\n\"\n",
    "    forest = forest.fit( train_features, data_train[target_var] )\n",
    "    \n",
    "    # Calculate text features for the testing set\n",
    "    print \"Cleaning and parsing test statuses...\\n\"\n",
    "    test_features = text_feature(data_test,text_var,nfeature)\n",
    "    \n",
    "    # Use the random forest fitted from the training set to predict the \n",
    "    # testing features\n",
    "    result = forest.predict(test_features)\n",
    "\n",
    "    # Copy the results to a pandas dataframe with a \"Prediction\" column containing \n",
    "    # the random tree predictions for the target variable, a \"True Value\" column containing the true\n",
    "    # values for the target variable\n",
    "    output = pd.DataFrame( data={\"Prediction\":result,\"True Value\":data_test[target_var]} )\n",
    "    return output\n",
    "\n",
    "if __name__==\"__main__\":\n",
    "    EP = pd.read_csv(\"/Users/dharshid/CDIPS_Project/data/EP_data.csv\", header=0).dropna()\n",
    "    target = 'gender'\n",
    "    ntrain = 3000\n",
    "    ntest = 3000\n",
    "    result = rand_forest_predict(EP,'content',target,\n",
    "                   ntrain,ntest,nfeature=1000,nestimator=50)\n",
    "    print \"The proportion of correct prediction for \",target, \" is \", \\\n",
    "        round(sum(result['Prediction']==result['True Value']),2)/ntest\n",
    " "
   ]
  },
  {
   "cell_type": "code",
   "execution_count": 5,
   "metadata": {
    "collapsed": false
   },
   "outputs": [
    {
     "data": {
      "text/plain": [
       "'0.16.1'"
      ]
     },
     "execution_count": 5,
     "metadata": {},
     "output_type": "execute_result"
    }
   ],
   "source": [
    "import sklearn\n",
    "sklearn.__version__"
   ]
  },
  {
   "cell_type": "code",
   "execution_count": null,
   "metadata": {
    "collapsed": false
   },
   "outputs": [],
   "source": [
    "print result.shape"
   ]
  },
  {
   "cell_type": "code",
   "execution_count": null,
   "metadata": {
    "collapsed": true
   },
   "outputs": [],
   "source": []
  }
 ],
 "metadata": {
  "kernelspec": {
   "display_name": "Python 2",
   "language": "python",
   "name": "python2"
  },
  "language_info": {
   "codemirror_mode": {
    "name": "ipython",
    "version": 2
   },
   "file_extension": ".py",
   "mimetype": "text/x-python",
   "name": "python",
   "nbconvert_exporter": "python",
   "pygments_lexer": "ipython2",
   "version": "2.7.10"
  }
 },
 "nbformat": 4,
 "nbformat_minor": 0
}
